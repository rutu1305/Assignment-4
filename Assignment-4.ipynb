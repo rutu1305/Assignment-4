{
 "cells": [
  {
   "cell_type": "code",
   "execution_count": null,
   "id": "314ad94d-b1b3-4bdf-9dda-16df67953197",
   "metadata": {},
   "outputs": [],
   "source": [
    "1. Python was created by Guido van Rossum, and first released on February 20, 1991"
   ]
  },
  {
   "cell_type": "code",
   "execution_count": null,
   "id": "dbbac97e-a6b7-4241-a052-b2dc7465843c",
   "metadata": {},
   "outputs": [],
   "source": [
    "2. Python is a multi-paradigm programming language. Object-oriented programming and \n",
    "structured programming are fully supported, and many of their features support functional programming \n",
    "and aspect-oriented programming (including metaprogramming and metaobjects)."
   ]
  },
  {
   "cell_type": "code",
   "execution_count": null,
   "id": "12031251-39fa-4ec9-98ce-8151b443ce53",
   "metadata": {},
   "outputs": [],
   "source": [
    "3. Yes, Python is case sensitive when dealing with identifiers"
   ]
  },
  {
   "cell_type": "code",
   "execution_count": null,
   "id": "76abcba0-f684-4593-a005-e464d8950b43",
   "metadata": {},
   "outputs": [],
   "source": [
    "4. The extensions for Python files are - py"
   ]
  },
  {
   "cell_type": "code",
   "execution_count": null,
   "id": "56912c1e-5966-43ec-b1fb-11a3a2966304",
   "metadata": {},
   "outputs": [],
   "source": [
    "5. Python is an interpreted language, which means the source code of a Python program is \n",
    "converted into bytecode that is then executed by the Python virtual machine. Python is different \n",
    "from major compiled languages, such as C and C + +, as Python code is not required to be\n",
    "built and linked like code for these languages."
   ]
  },
  {
   "cell_type": "code",
   "execution_count": null,
   "id": "ca952c30-2eb6-47d8-b0ec-b5816bc13ce9",
   "metadata": {},
   "outputs": [],
   "source": [
    "6. The following are blocks: a module, a function body, and a class definition. Each \n",
    "command typed interactively is a block. A script file (a file given as standard input to the \n",
    "interpreter or specified as a command line argument to the interpreter) is a code block."
   ]
  },
  {
   "cell_type": "code",
   "execution_count": null,
   "id": "67a6835e-dfad-4f2c-a827-dd17d88e5ad7",
   "metadata": {},
   "outputs": [],
   "source": [
    "7. Hash character (#) is used to comment the line in the Python program. \n",
    " Comments does not have to be text to explain the code, it can also be used to prevent\n",
    " Python from executing code. The hash character should be placed before the line to be commented"
   ]
  },
  {
   "cell_type": "code",
   "execution_count": null,
   "id": "a874f63e-854e-4a22-8db6-dbabe0d6e599",
   "metadata": {},
   "outputs": [],
   "source": [
    "8. The function sys. version can help us to find the version of python that we are \n",
    "currently working on. It also contains information on the build number and compiler used. "
   ]
  },
  {
   "cell_type": "code",
   "execution_count": null,
   "id": "1400da2b-d3c3-4abc-b163-18ffa1f36531",
   "metadata": {},
   "outputs": [],
   "source": [
    "9. Python supports to make anonymous functions at runtime,using a construct called \"lambda\" "
   ]
  },
  {
   "cell_type": "code",
   "execution_count": null,
   "id": "d7040c51-43bb-4ef6-91d9-20299b32d9ac",
   "metadata": {},
   "outputs": [],
   "source": [
    "10. PIP is a recursive acronym for “Preferred Installer Program” or PIP Installs Packages. \n",
    "It is a command-line utility that installs, reinstalls, or uninstalls PyPI packages with one\n",
    "simple command: pip"
   ]
  },
  {
   "cell_type": "code",
   "execution_count": null,
   "id": "b51c6879-3adc-47e8-ab27-10dce2df36ac",
   "metadata": {},
   "outputs": [],
   "source": [
    "11. abs() Returns the absolute value of a number\n",
    "all() Returns True if all items in an iterable object are true\n",
    "any() Returns True if any item in an iterable object is true\n",
    "ascii()\tReturns a readable version of an object. Replaces none-ascii characters with escape character\n",
    "bin() Returns the binary version of a number\n",
    "bool() Returns the boolean value of the specified object\n",
    "bytearray()\tReturns an array of bytes\n",
    "bytes()\tReturns a bytes object"
   ]
  },
  {
   "cell_type": "code",
   "execution_count": null,
   "id": "85410887-f86d-4ca6-934d-a31575357877",
   "metadata": {},
   "outputs": [],
   "source": [
    "12. An identifier can have a maximum length of 79 characters in Python. Python is one\n",
    "of the most popular programming language"
   ]
  },
  {
   "cell_type": "code",
   "execution_count": null,
   "id": "349d4130-e70a-4434-a6dc-a734e404db36",
   "metadata": {},
   "outputs": [],
   "source": [
    "13. Benefits of python:-\n",
    "Data science\n",
    "Scientific and mathematical computing\n",
    "Web developmen\n",
    "Finance and trading\n",
    "System automation and administration\n",
    "Computer graphics\n",
    "Basic game development\n",
    "Security and penetration testing"
   ]
  },
  {
   "cell_type": "code",
   "execution_count": null,
   "id": "2e2921cf-8459-4abb-95e3-55fbe7f24328",
   "metadata": {},
   "outputs": [],
   "source": [
    "14. Memory management in Python involves a private heap containing all Python \n",
    "objects and data structures. The management of this private heap is ensured internally\n",
    "by the Python memory manager."
   ]
  },
  {
   "cell_type": "code",
   "execution_count": null,
   "id": "377ce777-1c49-4a68-a409-084fc83e0aab",
   "metadata": {},
   "outputs": [],
   "source": [
    "15.Install python on windows:-\n",
    "Install python from this link https://www.python.org/downloads/\n",
    "After this, install it on your PC. Look for the location where PYTHON has been installed on\n",
    "your PC using tge following command on your command prompt: cmd python.\n",
    "Then go to advanced system settings and add new variable and name it as PYTHON_NAME and paste the copied path.\n",
    "Then look for the path variable, select it's value and select edit\n",
    "Add a semicolon towards the end of the value if it's not present and then type %PYTHON_HOME%"
   ]
  },
  {
   "cell_type": "code",
   "execution_count": null,
   "id": "925da963-b28b-4985-a232-3566a46ed97f",
   "metadata": {},
   "outputs": [],
   "source": [
    "16. Indentation refers to the spaces at the beginning of a code line. Where in \n",
    "other programming languages the indentation in code is for readability only, the indentation \n",
    "in Python is very important. Python uses indentation to indicate a block of code."
   ]
  }
 ],
 "metadata": {
  "kernelspec": {
   "display_name": "Python 3 (ipykernel)",
   "language": "python",
   "name": "python3"
  },
  "language_info": {
   "codemirror_mode": {
    "name": "ipython",
    "version": 3
   },
   "file_extension": ".py",
   "mimetype": "text/x-python",
   "name": "python",
   "nbconvert_exporter": "python",
   "pygments_lexer": "ipython3",
   "version": "3.10.8"
  }
 },
 "nbformat": 4,
 "nbformat_minor": 5
}
